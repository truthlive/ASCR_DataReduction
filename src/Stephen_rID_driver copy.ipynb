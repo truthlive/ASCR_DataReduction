{
 "cells": [
  {
   "attachments": {},
   "cell_type": "markdown",
   "metadata": {},
   "source": [
    "# Testing out the ID algoritihm of Bhaskara et al.\n",
    "Stephen Becker, March 6 2023\n",
    "\n",
    "\"Residual Based Sampling for Online Low Rank Approximation\", by Aditya Bhaskara, Silvio Lattanzi, Sergei Vassilvitskii and Morteza Zadimoghaddam. FOCS, 2019"
   ]
  },
  {
   "cell_type": "code",
   "execution_count": 1,
   "metadata": {},
   "outputs": [],
   "source": [
    "import numpy as np\n",
    "import matplotlib.pyplot as plt\n",
    "import time\n",
    "import h5py\n",
    "from numpy.random import default_rng\n",
    "import scipy.linalg as sli\n",
    "import scipy.io as sio\n",
    "\n",
    "%reload_ext autoreload\n",
    "%autoreload 2\n",
    "import rID\n",
    "rng=default_rng()"
   ]
  },
  {
   "attachments": {},
   "cell_type": "markdown",
   "metadata": {},
   "source": [
    "We'll make a Python \"class\" for stored columns for the ID.  You can add columns to the class (and their index), and the class will maintain a QR decomposition of the columns\n",
    "\n",
    "This particular class has three \"lengths\" associated with it:\n",
    "1. `k_max` is the maximum number of columns\n",
    "2. `k_current` is the current number of columns that have been added to it\n",
    "3. `k_previous` <= `k_current` is the number of columns in the \"previous\" set (using Bhaskara et al.'s notation). By default, projection is done with respect to the \"previous\" set\n",
    "    - Calling the method `.mergePreviousWithCurrent()` will include *all* the columns into the \"previous\" set"
   ]
  },
  {
   "cell_type": "code",
   "execution_count": 386,
   "metadata": {},
   "outputs": [],
   "source": [
    "class stored_columns:\n",
    "    def __init__(self, k = np.Inf):\n",
    "        self.indices = []   # indices of the columns; of size k_current\n",
    "        self.k_max   = k    # upper limit on # of columns\n",
    "        self.k_current  = 0\n",
    "        self.k_previous = 0 # <= k_current\n",
    "        self.columns = []   # the columns\n",
    "        self.Q = []         # orthonormal version of the columns, Q.T@Q = I\n",
    "        self.R = []         # columns = Q@R, i.e., R = Q.T@columns\n",
    "    def mergePreviousWithCurrent(self):\n",
    "        self.k_previous = self.k_current\n",
    "\n",
    "    def addColumn(self, newCol, newInd):\n",
    "        \"\"\" adds a column (and its index) to the set\"\"\"\n",
    "        if self.k_current >= self.k_max:\n",
    "            # do nothing. Should we give a warning??\n",
    "            return False\n",
    "        elif self.k_current == 0:\n",
    "            # No need to orthogonalize it since nothing yet in the set. Just normalize it\n",
    "            self.columns = np.reshape(newCol, (-1,1) ) # ensure it is column vector of size (n,1), not size (n,)\n",
    "            self.Q = np.reshape( newCol / sli.norm(newCol), (-1,1) )\n",
    "            self.R = np.reshape( sli.norm(newCol), (1,1))\n",
    "        else:\n",
    "            # Update QR: orthogonalize x <- x - QQ'x, and then normalize\n",
    "            q            = newCol - self.project(newCol, full=True)\n",
    "            self.Q       = np.column_stack( (self.Q, q/sli.norm(q)) )\n",
    "            # And update R\n",
    "            self.R = np.row_stack( (self.R, np.zeros((1,self.k_current))))\n",
    "            self.R = np.column_stack( (self.R, self.Q.T@newCol ))\n",
    "            \n",
    "            self.columns = np.column_stack( (self.columns, newCol ) )\n",
    "\n",
    "        self.indices.append( newInd )\n",
    "        self.k_current += 1\n",
    "        return True\n",
    "    \n",
    "    # Todo: allow adding multiple columns at once: do X - project, then do QR \n",
    "    # Todo: allow a re-orthogonalization routine to account for loss in precision\n",
    "    \n",
    "    def project(self, X, justQtX = False, full=False):\n",
    "        \"\"\" Projects X into the range of chosen columns \n",
    "        Implicitly restricts to just \"k_previous\"\n",
    "        This does Q*Q'*X, but if justQtX is True, then does Q'*X (saves some time if you just need the Euclidean norm)\n",
    "        \"\"\"\n",
    "        if full == False:\n",
    "            k = self.k_previous\n",
    "        else:\n",
    "            k = self.k_current\n",
    "        if k==0:\n",
    "            if justQtX:\n",
    "                if X.ndim > 1:\n",
    "                    return np.zeros( shape=(1,X.shape[1]) ) # not sure what a good shape is here...\n",
    "                else:\n",
    "                    return np.zeros( shape=(1,) )\n",
    "            else:\n",
    "                return 0*X\n",
    "        QtX = self.Q[:,:k].T @ X\n",
    "        if justQtX:\n",
    "            return QtX  # for efficient norm computations\n",
    "        # if QtX.ndim == 0:\n",
    "        #     return QtX*self.Q[:,:k] # issues with scalar\n",
    "        # else:\n",
    "        return self.Q[:,:k]@( QtX )\n"
   ]
  },
  {
   "attachments": {},
   "cell_type": "markdown",
   "metadata": {},
   "source": [
    "#### Load dataset, make error metric"
   ]
  },
  {
   "cell_type": "code",
   "execution_count": 409,
   "metadata": {},
   "outputs": [],
   "source": [
    "A    = rID.load_JHTDB_data(which_component=\"x\",nsample=64,data_name=\"mhd\")\n",
    "nrmX = sli.norm(A) # Frobenius norm\n",
    "# relError = lambda S : np.sqrt( 1 - ( sli.norm( S.project(A,justQtX=True) )/nrmX )**2 )\n",
    "relError = lambda S : np.sqrt(np.abs( 1 - ( sli.norm( S.project(A,justQtX=True) )/nrmX )**2 )) # ought to be positive but not always due to rounding\n",
    "\n",
    "# Another equivalent (slower) way to compute error:\n",
    "# C, residues, rnk, singA = sli.lstsq( S.columns, A)\n",
    "# print( np.sqrt(np.sum(residues))/nrmX ) # same as sli.norm( S.columns@C - A )/nrmX"
   ]
  },
  {
   "attachments": {},
   "cell_type": "markdown",
   "metadata": {},
   "source": [
    "#### Algorithm #3 from the Bhaskara et al. paper"
   ]
  },
  {
   "cell_type": "code",
   "execution_count": 401,
   "metadata": {},
   "outputs": [],
   "source": [
    "def rID_BhaskaraAlgo3(A, k=10, xi=0.05, rng=default_rng(), coefficientUpdateFcn = None):\n",
    "    \"\"\"\n",
    "    Description: Randomized ID using residual based CSS, solve least square problem to get coefficient of the new columns\n",
    "    Follows Algorithm 3 of Bhaskara et al. \"Residual Based Sampling for Online Low Rank Approximation\" (FOCS, 2019)\n",
    "\n",
    "    A is a m x n matrix, where we \"stream\" over the columns\n",
    "    k is the number of columns to save\n",
    "    xi is an target value of the Frobenius norm error (*absolute* error, not relative)\n",
    "\n",
    "    Optional: SA is a l x n matrix, a sketched version of A, which we do assume we can store in memory\n",
    "      (For now, we don't use that... later, when we start making *coefficients*, we will use that)\n",
    "\n",
    "    March 2023\n",
    "    \"\"\"\n",
    "    m, n = np.shape(A)\n",
    "    sigma = 0.\n",
    "    S     = stored_columns(k)\n",
    "\n",
    "    # Let's make coefficients\n",
    "    C     = np.zeros( (k,n) )\n",
    "\n",
    "    for column_index in range(n):\n",
    "        u = A[:,column_index]\n",
    "\n",
    "        # u_perp  = u - S.project(u)\n",
    "        # nrm_u_perp2 = sli.norm(u_perp)**2\n",
    "        # Faster way:\n",
    "        Su      = S.project(u,justQtX=True,full=True)\n",
    "        kk      = S.k_previous\n",
    "        nrm_u_perp2 = sli.norm(u)**2 - sli.norm( Su[:kk] )**2\n",
    "        pu = (k/160./xi) * nrm_u_perp2\n",
    "            \n",
    "        prob_sample = np.minimum(pu, 1)\n",
    "        roll = rng.random()\n",
    "        if roll <= prob_sample: \n",
    "            success = S.addColumn( u, column_index )\n",
    "            if success and (coefficientUpdateFcn is not None):\n",
    "                kk = S.k_current\n",
    "                C[:kk,:] = coefficientUpdateFcn( C[:kk,:], S, u)\n",
    "            # Update the projection:\n",
    "            Su      = S.project(u,justQtX=True,full=True) # can save some work by only updating last component if needed\n",
    "        # Update the coefficients for just this one sample\n",
    "        kk = S.k_current\n",
    "        # C[:kk,column_index] = sli.solve_triangular( S.R, S.Q.T@u)\n",
    "        C[:kk,column_index] = sli.solve_triangular( S.R, Su) # re-use the projection to save time\n",
    "\n",
    "        if pu < 1:\n",
    "            sigma += pu\n",
    "        if pu >= 1 or sigma >= 1:\n",
    "            sigma = 0\n",
    "            S.mergePreviousWithCurrent()\n",
    "    S.mergePreviousWithCurrent()\n",
    "    # There's a chance we didn't alot our full budget of k rows; in that case, make C smaller\n",
    "    kk = S.k_current\n",
    "    return S, C[:kk,:]"
   ]
  },
  {
   "cell_type": "code",
   "execution_count": 334,
   "metadata": {},
   "outputs": [],
   "source": [
    "def coeffUpdate_basicSketch( C, S, u, Omega, SA):\n",
    "    \"\"\" Naive coefficient updates\"\"\"\n",
    "    # We could keep an internal counter that stores the sketched columns\n",
    "    # For now, do it fresh every time, slightly slower\n",
    "    # Solve || Sketch( columns * C - A ) || where A is data matrix,\n",
    "    #   and Sketch(A) is prestored in SA\n",
    "    #   and columns is accessed via S.columns\n",
    "    # We overwrite everything already in C\n",
    "    C = sli.lstsq( Omega@S.columns, SA)[0]\n",
    "    return C\n",
    "\n",
    "def coeffUpdate_sketchJustUpdate( C, S, u, Omega, SA, subtractResid = False ):\n",
    "    \"\"\" Keep old coefficients fixed, only sketch new one \"\"\"\n",
    "    k = S.k_current\n",
    "    if k==1 :\n",
    "        # no old coefficients, so fall back\n",
    "        return coeffUpdate_basicSketch( C, S, u, Omega, SA)\n",
    "    Sq   = Omega@S.Q[:,-1]\n",
    "    qSSA = Sq.T@SA\n",
    "    if subtractResid:\n",
    "        qSSA -= ((Sq.T@Omega)@S.columns)@C\n",
    "    RC_new = qSSA/(sli.norm(Sq)**2) # aka RC_new = Sq \\ SA\n",
    "    RC = S.R[:-1,:-1] @ C[:-1,:]  # old coefficients, keep as-is\n",
    "    RC = np.row_stack( (RC, RC_new))\n",
    "    C = sli.solve_triangular( S.R, RC )\n",
    "    return C"
   ]
  },
  {
   "attachments": {},
   "cell_type": "markdown",
   "metadata": {},
   "source": [
    "#### Run their algorithm:"
   ]
  },
  {
   "cell_type": "code",
   "execution_count": 402,
   "metadata": {},
   "outputs": [
    {
     "name": "stdout",
     "output_type": "stream",
     "text": [
      "4096 1000\n",
      "[0, 31, 51, 57, 216, 260, 266, 284, 365, 426]\n",
      "Optimal (multipass) relative Frobenius norm error is\t   1.85%\n",
      "... and error using naive one-pass coefficients is         2.09%\n",
      "... and error using sketched coefficient update, ver 1, is 1.89%\n",
      "... and error using sketched coefficient update, ver 2, is 24.18%\n",
      "... and error using sketched coefficient update, ver 3, is 2.02%\n"
     ]
    }
   ],
   "source": [
    "m,n = A.shape  # 4096 x 1000\n",
    "print(m,n)\n",
    "k = 10\n",
    "S, C = rID_BhaskaraAlgo3(A, k=k, xi=10)\n",
    "# S.columns\n",
    "print( S.indices )\n",
    "\n",
    "# Find optimal error (would require a second pass through data)\n",
    "print(f\"Optimal (multipass) relative Frobenius norm error is\\t   {100*relError(S):.2f}%\" )\n",
    "# S.Q\n",
    "\n",
    "# And what if we use the one-pass coefficient matrix C? Error should be higher\n",
    "err0 = sli.norm( S.columns@C - A )/nrmX\n",
    "print(f\"... and error using naive one-pass coefficients is         {100*err0:.2f}%\")\n",
    "\n",
    "# And try a better coefficient update\n",
    "oversampling = 100 # 10 is too small\n",
    "ell = k + oversampling # size of sketch\n",
    "Omega = rng.standard_normal(size=(ell,m))/np.sqrt(ell)\n",
    "SA    = Omega@A  # Sketch the data\n",
    "# If we've normalized properly, then SA and A should have similar Frobenius norms\n",
    "# sli.norm(SA), sli.norm(A) # Yes, roughly the same\n",
    "\n",
    "S1, C1 = rID_BhaskaraAlgo3(A, k=k, xi=10, coefficientUpdateFcn = lambda  C, S, u : coeffUpdate_basicSketch(C,S,u,Omega,SA) )\n",
    "err1 = sli.norm( S1.columns@C1 - A )/nrmX\n",
    "print(f\"... and error using sketched coefficient update, ver 1, is {100*err1:.2f}%\")\n",
    "\n",
    "S2, C2 = rID_BhaskaraAlgo3(A, k=k, xi=10, coefficientUpdateFcn = lambda  C, S, u : coeffUpdate_sketchJustUpdate(C,S,u,Omega,SA) )\n",
    "err2 = sli.norm( S2.columns@C2 - A )/nrmX\n",
    "print(f\"... and error using sketched coefficient update, ver 2, is {100*err2:.2f}%\")\n",
    "\n",
    "S3, C3 = rID_BhaskaraAlgo3(A, k=k, xi=10, coefficientUpdateFcn = lambda  C, S, u : coeffUpdate_sketchJustUpdate(C,S,u,Omega,SA, subtractResid=True) )\n",
    "err3 = sli.norm( S3.columns@C3 - A )/nrmX\n",
    "print(f\"... and error using sketched coefficient update, ver 3, is {100*err3:.2f}%\")"
   ]
  },
  {
   "attachments": {},
   "cell_type": "markdown",
   "metadata": {},
   "source": [
    "#### Sanity check: choose columns at random\n",
    "Is this better, worse, or about the same as the fancy algorithm?\n",
    "\n",
    "Conclusion: about the same, or even slightly better\n",
    "\n",
    "(re-run this several times, since the results are random)"
   ]
  },
  {
   "cell_type": "code",
   "execution_count": 249,
   "metadata": {},
   "outputs": [
    {
     "name": "stdout",
     "output_type": "stream",
     "text": [
      "[808, 903, 29, 56, 927, 936, 950, 70, 594, 617]\n",
      "Relative Frobenius norm error is 1.84%\n"
     ]
    }
   ],
   "source": [
    "randInd = rng.choice( n, k)\n",
    "S_rand     = stored_columns(k)\n",
    "for i in randInd:\n",
    "    S_rand.addColumn( A[:,i], i )\n",
    "S_rand.mergePreviousWithCurrent()\n",
    "\n",
    "# S.columns\n",
    "print( S_rand.indices )\n",
    "\n",
    "# Find optimal error (would require a second pass through data)\n",
    "print(f\"Relative Frobenius norm error is {100*relError(S_rand):.2f}%\" )\n",
    "# S.Q"
   ]
  },
  {
   "attachments": {},
   "cell_type": "markdown",
   "metadata": {},
   "source": [
    "### Systematic tests\n",
    "Running many times to get statistics"
   ]
  },
  {
   "cell_type": "code",
   "execution_count": 410,
   "metadata": {},
   "outputs": [
    {
     "name": "stdout",
     "output_type": "stream",
     "text": [
      "A is 4096x1000, and choose k=10 columns for ID, sketch size 110, and 30 runs\n"
     ]
    }
   ],
   "source": [
    "m,n = A.shape  # 4096 x 1000\n",
    "k   = 10\n",
    "oversampling = 100 # 10 is too small\n",
    "ell = k + oversampling # size of sketch\n",
    "nReps = int(3e1)\n",
    "xi = 10\n",
    "print(f\"A is {m}x{n}, and choose k={k} columns for ID, sketch size {ell}, and {nReps} runs\")\n",
    "\n",
    "nAlgo = 6\n",
    "errors= np.zeros( (nReps,nAlgo) )\n",
    "for rep in range(nReps):\n",
    "\n",
    "    S, C = rID_BhaskaraAlgo3(A, k=k, xi=xi)\n",
    "    errMultiPass = relError(S)\n",
    "\n",
    "    # And what if we use the one-pass coefficient matrix C? Error should be higher\n",
    "    err0 = sli.norm( S.columns@C - A )/nrmX\n",
    "\n",
    "    Omega = rng.standard_normal(size=(ell,m))/np.sqrt(ell)\n",
    "    SA    = Omega@A  # Sketch the data\n",
    "\n",
    "    S1, C1 = rID_BhaskaraAlgo3(A, k=k, xi=xi, coefficientUpdateFcn = lambda  C, S, u : coeffUpdate_basicSketch(C,S,u,Omega,SA) )\n",
    "    err1 = sli.norm( S1.columns@C1 - A )/nrmX\n",
    "\n",
    "    S2, C2 = rID_BhaskaraAlgo3(A, k=k, xi=xi, coefficientUpdateFcn = lambda  C, S, u : coeffUpdate_sketchJustUpdate(C,S,u,Omega,SA) )\n",
    "    err2 = sli.norm( S2.columns@C2 - A )/nrmX\n",
    "\n",
    "    S3, C3 = rID_BhaskaraAlgo3(A, k=k, xi=xi, coefficientUpdateFcn = lambda  C, S, u : coeffUpdate_sketchJustUpdate(C,S,u,Omega,SA, subtractResid=True) )\n",
    "    err3 = sli.norm( S3.columns@C3 - A )/nrmX\n",
    "\n",
    "    # And random:\n",
    "    randInd = rng.choice( n, k)\n",
    "    S_rand     = stored_columns(k)\n",
    "    for i in randInd:\n",
    "        S_rand.addColumn( A[:,i], i )\n",
    "    S_rand.mergePreviousWithCurrent()\n",
    "    err4 = relError(S_rand)\n",
    "\n",
    "    errors[rep,:] = [ errMultiPass, err0, err1, err2, err3, err4 ]\n"
   ]
  },
  {
   "attachments": {},
   "cell_type": "markdown",
   "metadata": {},
   "source": [
    "If we're interesting in profiling:\n",
    "\n",
    "(first, do `conda install line_profiler`)"
   ]
  },
  {
   "cell_type": "code",
   "execution_count": 372,
   "metadata": {},
   "outputs": [],
   "source": [
    "%load_ext line_profiler"
   ]
  },
  {
   "cell_type": "code",
   "execution_count": 406,
   "metadata": {},
   "outputs": [],
   "source": [
    "# %lprun -f rID_BhaskaraAlgo3 rID_BhaskaraAlgo3(A, k=k, xi=xi, coefficientUpdateFcn = lambda  C, S, u : coeffUpdate_sketchJustUpdate(C,S,u,Omega,SA, subtractResid=True) )\n",
    "# %lprun -f stored_columns.project rID_BhaskaraAlgo3(A, k=k, xi=xi, coefficientUpdateFcn = lambda  C, S, u : coeffUpdate_sketchJustUpdate(C,S,u,Omega,SA, subtractResid=True) )"
   ]
  },
  {
   "cell_type": "code",
   "execution_count": 403,
   "metadata": {},
   "outputs": [
    {
     "name": "stdout",
     "output_type": "stream",
     "text": [
      "135 ms ± 6 ms per loop (mean ± std. dev. of 5 runs, 5 loops each)\n"
     ]
    }
   ],
   "source": [
    "%timeit -n 5 -r 5 rID_BhaskaraAlgo3(A, k=k, xi=xi, coefficientUpdateFcn = lambda  C, S, u : coeffUpdate_sketchJustUpdate(C,S,u,Omega,SA, subtractResid=True) )"
   ]
  },
  {
   "attachments": {},
   "cell_type": "markdown",
   "metadata": {},
   "source": [
    "Plot the timing results (exclude partial sketch v1 since it's very poor)"
   ]
  },
  {
   "cell_type": "code",
   "execution_count": 411,
   "metadata": {},
   "outputs": [
    {
     "data": {
      "image/png": "[encoded data removed]",
      "text/plain": [
       "<Figure size 640x480 with 1 Axes>"
      ]
     },
     "metadata": {},
     "output_type": "display_data"
    }
   ],
   "source": [
    "np.mean(errors,axis=0)\n",
    "\n",
    "# plt.boxplot( errors )\n",
    "plt.boxplot( np.hstack( (errors[:,:3], errors[:,4:]) ), \n",
    "            labels=['Bhaskar algo, 2-pass','Bhaskar, naive 1-pass','Sketching','Partial sketch v2','Random columns'])\n",
    "plt.ylabel(\"Relative Frobenius norm error\")\n",
    "plt.xticks(rotation=90)\n",
    "plt.ylim(bottom=0)\n",
    "plt.show()"
   ]
  }
 ],
 "metadata": {
  "kernelspec": {
   "display_name": "Python 3",
   "language": "python",
   "name": "python3"
  },
  "language_info": {
   "codemirror_mode": {
    "name": "ipython",
    "version": 3
   },
   "file_extension": ".py",
   "mimetype": "text/x-python",
   "name": "python",
   "nbconvert_exporter": "python",
   "pygments_lexer": "ipython3",
   "version": "3.9.13"
  }
 },
 "nbformat": 4,
 "nbformat_minor": 2
}
